{
  "nbformat": 4,
  "nbformat_minor": 0,
  "metadata": {
    "colab": {
      "provenance": [],
      "authorship_tag": "ABX9TyNJ+xQqK1XQ1ifCxbj6N6vx",
      "include_colab_link": true
    },
    "kernelspec": {
      "name": "python3",
      "display_name": "Python 3"
    },
    "language_info": {
      "name": "python"
    }
  },
  "cells": [
    {
      "cell_type": "markdown",
      "metadata": {
        "id": "view-in-github",
        "colab_type": "text"
      },
      "source": [
        "<a href=\"https://colab.research.google.com/github/Raghamala/basic_/blob/main/ToDoList.ipynb\" target=\"_parent\"><img src=\"https://colab.research.google.com/assets/colab-badge.svg\" alt=\"Open In Colab\"/></a>"
      ]
    },
    {
      "cell_type": "code",
      "execution_count": 7,
      "metadata": {
        "id": "r2D9lpFOYlFj"
      },
      "outputs": [],
      "source": [
        "#todo.py\n",
        "\n",
        "tasks = []\n",
        "\n",
        "def add_task():\n",
        "  task = input(\"Enter the task: \")\n",
        "  tasks.append({\"task\":task, \"completed\":False})\n",
        "  print(\"Task added successfully!\")"
      ]
    },
    {
      "cell_type": "code",
      "source": [
        "def view_tasks():\n",
        "  if not tasks:\n",
        "    print(\"No tasks found.\")\n",
        "  else:\n",
        "    print(\"----Tasks-----\")\n",
        "    for idx,task in enumerate(tasks, start=1):\n",
        "      status = \"✓\" if task[\"completed\"] else \" \"\n",
        "      print(f\"{idx}.[{status}] {task['task']}\")\n",
        "      print(\"---------------\")"
      ],
      "metadata": {
        "id": "9AYjF6L2Y6Hj"
      },
      "execution_count": 8,
      "outputs": []
    },
    {
      "cell_type": "code",
      "source": [
        "def mark_completed():\n",
        "  view_tasks()\n",
        "  task_number = int(input(\"Enter the task number you want to mark as completed:\"))\n",
        "  if 1 <= task_number <= len(tasks):\n",
        "    tasks[task_number - 1][\"completed\"] = True\n",
        "    print(\"Task marked as completed1\")\n",
        "  else:\n",
        "    print(\"Invalid task number. Please try again.\")"
      ],
      "metadata": {
        "id": "i8UDj1apabTs"
      },
      "execution_count": 9,
      "outputs": []
    },
    {
      "cell_type": "code",
      "source": [
        "def main():\n",
        "  while True:\n",
        "    print(\"\\n-------To-Do List-------\")\n",
        "    print(\"1. Add Task\")\n",
        "    print(\"2. View Tasks\")\n",
        "    print(\"3. Mark Task as Completed\")\n",
        "    print(\"4. Exit\")\n",
        "\n",
        "    choice = input(\"Enter your choice (1/2/3/4/):\")\n",
        "\n",
        "    if choice == '1':\n",
        "      add_task()\n",
        "    elif choice == '2':\n",
        "      view_tasks()\n",
        "    elif choice == '3':\n",
        "      mark_completed()\n",
        "    elif choice == '4':\n",
        "      print(\"Exiting the To-Do List app. Goodbye!\")\n",
        "      break\n",
        "    else:\n",
        "      print(\"Invalid choice. Please try again.\")\n",
        "\n",
        ""
      ],
      "metadata": {
        "id": "5teVUrnWbBmB"
      },
      "execution_count": 10,
      "outputs": []
    },
    {
      "cell_type": "code",
      "source": [
        "if __name__ == \"__main__\":\n",
        "  main()"
      ],
      "metadata": {
        "colab": {
          "base_uri": "https://localhost:8080/"
        },
        "id": "m0C9mlLxb3ef",
        "outputId": "0856a15e-c2d0-4ad9-a300-e5d847478d2c"
      },
      "execution_count": 11,
      "outputs": [
        {
          "output_type": "stream",
          "name": "stdout",
          "text": [
            "\n",
            "-------To-Do List-------\n",
            "1. Add Task\n",
            "2. View Tasks\n",
            "3. Mark Task as Completed\n",
            "4. Exit\n",
            "Enter your choice (1/2/3/4/):2\n",
            "No tasks found.\n",
            "\n",
            "-------To-Do List-------\n",
            "1. Add Task\n",
            "2. View Tasks\n",
            "3. Mark Task as Completed\n",
            "4. Exit\n",
            "Enter your choice (1/2/3/4/):1\n",
            "Enter the task: call\n",
            "Task added successfully!\n",
            "\n",
            "-------To-Do List-------\n",
            "1. Add Task\n",
            "2. View Tasks\n",
            "3. Mark Task as Completed\n",
            "4. Exit\n",
            "Enter your choice (1/2/3/4/):1\n",
            "Enter the task: drink water\n",
            "Task added successfully!\n",
            "\n",
            "-------To-Do List-------\n",
            "1. Add Task\n",
            "2. View Tasks\n",
            "3. Mark Task as Completed\n",
            "4. Exit\n",
            "Enter your choice (1/2/3/4/):1\n",
            "Enter the task: study\n",
            "Task added successfully!\n",
            "\n",
            "-------To-Do List-------\n",
            "1. Add Task\n",
            "2. View Tasks\n",
            "3. Mark Task as Completed\n",
            "4. Exit\n",
            "Enter your choice (1/2/3/4/):1\n",
            "Enter the task: bath\n",
            "Task added successfully!\n",
            "\n",
            "-------To-Do List-------\n",
            "1. Add Task\n",
            "2. View Tasks\n",
            "3. Mark Task as Completed\n",
            "4. Exit\n",
            "Enter your choice (1/2/3/4/):1\n",
            "Enter the task: pray\n",
            "Task added successfully!\n",
            "\n",
            "-------To-Do List-------\n",
            "1. Add Task\n",
            "2. View Tasks\n",
            "3. Mark Task as Completed\n",
            "4. Exit\n",
            "Enter your choice (1/2/3/4/):2\n",
            "----Tasks-----\n",
            "1.[ ] call\n",
            "---------------\n",
            "2.[ ] drink water\n",
            "---------------\n",
            "3.[ ] study\n",
            "---------------\n",
            "4.[ ] bath\n",
            "---------------\n",
            "5.[ ] pray\n",
            "---------------\n",
            "\n",
            "-------To-Do List-------\n",
            "1. Add Task\n",
            "2. View Tasks\n",
            "3. Mark Task as Completed\n",
            "4. Exit\n",
            "Enter your choice (1/2/3/4/):3\n",
            "----Tasks-----\n",
            "1.[ ] call\n",
            "---------------\n",
            "2.[ ] drink water\n",
            "---------------\n",
            "3.[ ] study\n",
            "---------------\n",
            "4.[ ] bath\n",
            "---------------\n",
            "5.[ ] pray\n",
            "---------------\n",
            "Enter the task number you want to mark as completed:4\n",
            "Task marked as completed1\n",
            "\n",
            "-------To-Do List-------\n",
            "1. Add Task\n",
            "2. View Tasks\n",
            "3. Mark Task as Completed\n",
            "4. Exit\n",
            "Enter your choice (1/2/3/4/):2\n",
            "----Tasks-----\n",
            "1.[ ] call\n",
            "---------------\n",
            "2.[ ] drink water\n",
            "---------------\n",
            "3.[ ] study\n",
            "---------------\n",
            "4.[✓] bath\n",
            "---------------\n",
            "5.[ ] pray\n",
            "---------------\n",
            "\n",
            "-------To-Do List-------\n",
            "1. Add Task\n",
            "2. View Tasks\n",
            "3. Mark Task as Completed\n",
            "4. Exit\n",
            "Enter your choice (1/2/3/4/):4\n",
            "Exiting the To-Do List app. Goodbye!\n"
          ]
        }
      ]
    },
    {
      "cell_type": "code",
      "source": [],
      "metadata": {
        "id": "4acN-5v3b-E1"
      },
      "execution_count": null,
      "outputs": []
    }
  ]
}